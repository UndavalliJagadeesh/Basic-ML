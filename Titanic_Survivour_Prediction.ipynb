{
  "nbformat": 4,
  "nbformat_minor": 0,
  "metadata": {
    "colab": {
      "name": "Titanic_Survivour_Prediction.ipynb",
      "provenance": [],
      "collapsed_sections": []
    },
    "kernelspec": {
      "name": "python3",
      "display_name": "Python 3"
    },
    "language_info": {
      "name": "python"
    }
  },
  "cells": [
    {
      "cell_type": "markdown",
      "metadata": {
        "id": "8i7zZgoNKBne"
      },
      "source": [
        "# **Explorative Data Analysis** (EDA)\n",
        "\n",
        "> Explorative Data Analysis is a process where one learns about the data, forms insights and identifies important columns (features) that can be user to tell a story or later formulate a ML problem.\n",
        "\n",
        "\n"
      ]
    },
    {
      "cell_type": "code",
      "metadata": {
        "id": "jXnQ5-LbLz9W"
      },
      "source": [
        "import pandas as pd\n",
        "import matplotlib.pyplot as plt\n",
        "import numpy as np\n",
        "import seaborn as sns\n",
        "\n",
        "import warnings\n",
        "warnings.filterwarnings(\"ignore\")\n",
        "\n",
        "%matplotlib inline"
      ],
      "execution_count": 782,
      "outputs": []
    },
    {
      "cell_type": "markdown",
      "metadata": {
        "id": "WUuSN5QJMGyS"
      },
      "source": [
        "> The `warnings` library has been imported to supress the warnings using the command `warnings.filterwarnings(\"ignore\")` "
      ]
    },
    {
      "cell_type": "code",
      "metadata": {
        "id": "fqdC0P9lM7Fd"
      },
      "source": [
        "df=pd.read_csv(\"/content/titanic_train.csv\")\n"
      ],
      "execution_count": 783,
      "outputs": []
    },
    {
      "cell_type": "markdown",
      "metadata": {
        "id": "omfBwbWHMM7W"
      },
      "source": [
        "The data has been imported as a dataset into variable `data` using the method `.read_csv()` method of Pandas library.  "
      ]
    },
    {
      "cell_type": "markdown",
      "metadata": {
        "id": "l2VsM-rdMOIO"
      },
      "source": [
        "> The size of data can be known using `shape` as below."
      ]
    },
    {
      "cell_type": "code",
      "metadata": {
        "colab": {
          "base_uri": "https://localhost:8080/"
        },
        "id": "SSnOqVQWN4b6",
        "outputId": "023cef34-921d-4201-fcc1-3c7177cc1bdc"
      },
      "source": [
        "df.shape"
      ],
      "execution_count": 784,
      "outputs": [
        {
          "output_type": "execute_result",
          "data": {
            "text/plain": [
              "(891, 12)"
            ]
          },
          "metadata": {},
          "execution_count": 784
        }
      ]
    },
    {
      "cell_type": "markdown",
      "metadata": {
        "id": "7QE4jDqoMXLK"
      },
      "source": [
        "It is observed that this dataset contains 891 observations with 12 features."
      ]
    },
    {
      "cell_type": "markdown",
      "metadata": {
        "id": "B7TZGSWDMcqx"
      },
      "source": [
        "> The `.head()` and `.tail()` methods can be used to show a dataframe consisting of first five rows and last five rows respectively."
      ]
    },
    {
      "cell_type": "code",
      "metadata": {
        "colab": {
          "base_uri": "https://localhost:8080/",
          "height": 203
        },
        "id": "Jgnce11UND2C",
        "outputId": "17304c07-762c-4d45-9941-26c79fa4c709"
      },
      "source": [
        "df.head()"
      ],
      "execution_count": 785,
      "outputs": [
        {
          "output_type": "execute_result",
          "data": {
            "text/html": [
              "<div>\n",
              "<style scoped>\n",
              "    .dataframe tbody tr th:only-of-type {\n",
              "        vertical-align: middle;\n",
              "    }\n",
              "\n",
              "    .dataframe tbody tr th {\n",
              "        vertical-align: top;\n",
              "    }\n",
              "\n",
              "    .dataframe thead th {\n",
              "        text-align: right;\n",
              "    }\n",
              "</style>\n",
              "<table border=\"1\" class=\"dataframe\">\n",
              "  <thead>\n",
              "    <tr style=\"text-align: right;\">\n",
              "      <th></th>\n",
              "      <th>PassengerId</th>\n",
              "      <th>Survived</th>\n",
              "      <th>Pclass</th>\n",
              "      <th>Name</th>\n",
              "      <th>Sex</th>\n",
              "      <th>Age</th>\n",
              "      <th>SibSp</th>\n",
              "      <th>Parch</th>\n",
              "      <th>Ticket</th>\n",
              "      <th>Fare</th>\n",
              "      <th>Cabin</th>\n",
              "      <th>Embarked</th>\n",
              "    </tr>\n",
              "  </thead>\n",
              "  <tbody>\n",
              "    <tr>\n",
              "      <th>0</th>\n",
              "      <td>1</td>\n",
              "      <td>0</td>\n",
              "      <td>3</td>\n",
              "      <td>Braund, Mr. Owen Harris</td>\n",
              "      <td>male</td>\n",
              "      <td>22.0</td>\n",
              "      <td>1</td>\n",
              "      <td>0</td>\n",
              "      <td>A/5 21171</td>\n",
              "      <td>7.2500</td>\n",
              "      <td>NaN</td>\n",
              "      <td>S</td>\n",
              "    </tr>\n",
              "    <tr>\n",
              "      <th>1</th>\n",
              "      <td>2</td>\n",
              "      <td>1</td>\n",
              "      <td>1</td>\n",
              "      <td>Cumings, Mrs. John Bradley (Florence Briggs Th...</td>\n",
              "      <td>female</td>\n",
              "      <td>38.0</td>\n",
              "      <td>1</td>\n",
              "      <td>0</td>\n",
              "      <td>PC 17599</td>\n",
              "      <td>71.2833</td>\n",
              "      <td>C85</td>\n",
              "      <td>C</td>\n",
              "    </tr>\n",
              "    <tr>\n",
              "      <th>2</th>\n",
              "      <td>3</td>\n",
              "      <td>1</td>\n",
              "      <td>3</td>\n",
              "      <td>Heikkinen, Miss. Laina</td>\n",
              "      <td>female</td>\n",
              "      <td>26.0</td>\n",
              "      <td>0</td>\n",
              "      <td>0</td>\n",
              "      <td>STON/O2. 3101282</td>\n",
              "      <td>7.9250</td>\n",
              "      <td>NaN</td>\n",
              "      <td>S</td>\n",
              "    </tr>\n",
              "    <tr>\n",
              "      <th>3</th>\n",
              "      <td>4</td>\n",
              "      <td>1</td>\n",
              "      <td>1</td>\n",
              "      <td>Futrelle, Mrs. Jacques Heath (Lily May Peel)</td>\n",
              "      <td>female</td>\n",
              "      <td>35.0</td>\n",
              "      <td>1</td>\n",
              "      <td>0</td>\n",
              "      <td>113803</td>\n",
              "      <td>53.1000</td>\n",
              "      <td>C123</td>\n",
              "      <td>S</td>\n",
              "    </tr>\n",
              "    <tr>\n",
              "      <th>4</th>\n",
              "      <td>5</td>\n",
              "      <td>0</td>\n",
              "      <td>3</td>\n",
              "      <td>Allen, Mr. William Henry</td>\n",
              "      <td>male</td>\n",
              "      <td>35.0</td>\n",
              "      <td>0</td>\n",
              "      <td>0</td>\n",
              "      <td>373450</td>\n",
              "      <td>8.0500</td>\n",
              "      <td>NaN</td>\n",
              "      <td>S</td>\n",
              "    </tr>\n",
              "  </tbody>\n",
              "</table>\n",
              "</div>"
            ],
            "text/plain": [
              "   PassengerId  Survived  Pclass  ...     Fare Cabin  Embarked\n",
              "0            1         0       3  ...   7.2500   NaN         S\n",
              "1            2         1       1  ...  71.2833   C85         C\n",
              "2            3         1       3  ...   7.9250   NaN         S\n",
              "3            4         1       1  ...  53.1000  C123         S\n",
              "4            5         0       3  ...   8.0500   NaN         S\n",
              "\n",
              "[5 rows x 12 columns]"
            ]
          },
          "metadata": {},
          "execution_count": 785
        }
      ]
    },
    {
      "cell_type": "code",
      "metadata": {
        "colab": {
          "base_uri": "https://localhost:8080/",
          "height": 203
        },
        "id": "h2_NacYJNFGC",
        "outputId": "a31361f6-d723-4698-f271-3b568169c037"
      },
      "source": [
        "df.tail()"
      ],
      "execution_count": 786,
      "outputs": [
        {
          "output_type": "execute_result",
          "data": {
            "text/html": [
              "<div>\n",
              "<style scoped>\n",
              "    .dataframe tbody tr th:only-of-type {\n",
              "        vertical-align: middle;\n",
              "    }\n",
              "\n",
              "    .dataframe tbody tr th {\n",
              "        vertical-align: top;\n",
              "    }\n",
              "\n",
              "    .dataframe thead th {\n",
              "        text-align: right;\n",
              "    }\n",
              "</style>\n",
              "<table border=\"1\" class=\"dataframe\">\n",
              "  <thead>\n",
              "    <tr style=\"text-align: right;\">\n",
              "      <th></th>\n",
              "      <th>PassengerId</th>\n",
              "      <th>Survived</th>\n",
              "      <th>Pclass</th>\n",
              "      <th>Name</th>\n",
              "      <th>Sex</th>\n",
              "      <th>Age</th>\n",
              "      <th>SibSp</th>\n",
              "      <th>Parch</th>\n",
              "      <th>Ticket</th>\n",
              "      <th>Fare</th>\n",
              "      <th>Cabin</th>\n",
              "      <th>Embarked</th>\n",
              "    </tr>\n",
              "  </thead>\n",
              "  <tbody>\n",
              "    <tr>\n",
              "      <th>886</th>\n",
              "      <td>887</td>\n",
              "      <td>0</td>\n",
              "      <td>2</td>\n",
              "      <td>Montvila, Rev. Juozas</td>\n",
              "      <td>male</td>\n",
              "      <td>27.0</td>\n",
              "      <td>0</td>\n",
              "      <td>0</td>\n",
              "      <td>211536</td>\n",
              "      <td>13.00</td>\n",
              "      <td>NaN</td>\n",
              "      <td>S</td>\n",
              "    </tr>\n",
              "    <tr>\n",
              "      <th>887</th>\n",
              "      <td>888</td>\n",
              "      <td>1</td>\n",
              "      <td>1</td>\n",
              "      <td>Graham, Miss. Margaret Edith</td>\n",
              "      <td>female</td>\n",
              "      <td>19.0</td>\n",
              "      <td>0</td>\n",
              "      <td>0</td>\n",
              "      <td>112053</td>\n",
              "      <td>30.00</td>\n",
              "      <td>B42</td>\n",
              "      <td>S</td>\n",
              "    </tr>\n",
              "    <tr>\n",
              "      <th>888</th>\n",
              "      <td>889</td>\n",
              "      <td>0</td>\n",
              "      <td>3</td>\n",
              "      <td>Johnston, Miss. Catherine Helen \"Carrie\"</td>\n",
              "      <td>female</td>\n",
              "      <td>NaN</td>\n",
              "      <td>1</td>\n",
              "      <td>2</td>\n",
              "      <td>W./C. 6607</td>\n",
              "      <td>23.45</td>\n",
              "      <td>NaN</td>\n",
              "      <td>S</td>\n",
              "    </tr>\n",
              "    <tr>\n",
              "      <th>889</th>\n",
              "      <td>890</td>\n",
              "      <td>1</td>\n",
              "      <td>1</td>\n",
              "      <td>Behr, Mr. Karl Howell</td>\n",
              "      <td>male</td>\n",
              "      <td>26.0</td>\n",
              "      <td>0</td>\n",
              "      <td>0</td>\n",
              "      <td>111369</td>\n",
              "      <td>30.00</td>\n",
              "      <td>C148</td>\n",
              "      <td>C</td>\n",
              "    </tr>\n",
              "    <tr>\n",
              "      <th>890</th>\n",
              "      <td>891</td>\n",
              "      <td>0</td>\n",
              "      <td>3</td>\n",
              "      <td>Dooley, Mr. Patrick</td>\n",
              "      <td>male</td>\n",
              "      <td>32.0</td>\n",
              "      <td>0</td>\n",
              "      <td>0</td>\n",
              "      <td>370376</td>\n",
              "      <td>7.75</td>\n",
              "      <td>NaN</td>\n",
              "      <td>Q</td>\n",
              "    </tr>\n",
              "  </tbody>\n",
              "</table>\n",
              "</div>"
            ],
            "text/plain": [
              "     PassengerId  Survived  Pclass  ...   Fare Cabin  Embarked\n",
              "886          887         0       2  ...  13.00   NaN         S\n",
              "887          888         1       1  ...  30.00   B42         S\n",
              "888          889         0       3  ...  23.45   NaN         S\n",
              "889          890         1       1  ...  30.00  C148         C\n",
              "890          891         0       3  ...   7.75   NaN         Q\n",
              "\n",
              "[5 rows x 12 columns]"
            ]
          },
          "metadata": {},
          "execution_count": 786
        }
      ]
    },
    {
      "cell_type": "code",
      "metadata": {
        "colab": {
          "base_uri": "https://localhost:8080/",
          "height": 295
        },
        "id": "nmWQcnH0NKRX",
        "outputId": "15ac7dc9-16ba-4ef6-cb42-89fe9a1ee42c"
      },
      "source": [
        "df.describe()"
      ],
      "execution_count": 787,
      "outputs": [
        {
          "output_type": "execute_result",
          "data": {
            "text/html": [
              "<div>\n",
              "<style scoped>\n",
              "    .dataframe tbody tr th:only-of-type {\n",
              "        vertical-align: middle;\n",
              "    }\n",
              "\n",
              "    .dataframe tbody tr th {\n",
              "        vertical-align: top;\n",
              "    }\n",
              "\n",
              "    .dataframe thead th {\n",
              "        text-align: right;\n",
              "    }\n",
              "</style>\n",
              "<table border=\"1\" class=\"dataframe\">\n",
              "  <thead>\n",
              "    <tr style=\"text-align: right;\">\n",
              "      <th></th>\n",
              "      <th>PassengerId</th>\n",
              "      <th>Survived</th>\n",
              "      <th>Pclass</th>\n",
              "      <th>Age</th>\n",
              "      <th>SibSp</th>\n",
              "      <th>Parch</th>\n",
              "      <th>Fare</th>\n",
              "    </tr>\n",
              "  </thead>\n",
              "  <tbody>\n",
              "    <tr>\n",
              "      <th>count</th>\n",
              "      <td>891.000000</td>\n",
              "      <td>891.000000</td>\n",
              "      <td>891.000000</td>\n",
              "      <td>714.000000</td>\n",
              "      <td>891.000000</td>\n",
              "      <td>891.000000</td>\n",
              "      <td>891.000000</td>\n",
              "    </tr>\n",
              "    <tr>\n",
              "      <th>mean</th>\n",
              "      <td>446.000000</td>\n",
              "      <td>0.383838</td>\n",
              "      <td>2.308642</td>\n",
              "      <td>29.699118</td>\n",
              "      <td>0.523008</td>\n",
              "      <td>0.381594</td>\n",
              "      <td>32.204208</td>\n",
              "    </tr>\n",
              "    <tr>\n",
              "      <th>std</th>\n",
              "      <td>257.353842</td>\n",
              "      <td>0.486592</td>\n",
              "      <td>0.836071</td>\n",
              "      <td>14.526497</td>\n",
              "      <td>1.102743</td>\n",
              "      <td>0.806057</td>\n",
              "      <td>49.693429</td>\n",
              "    </tr>\n",
              "    <tr>\n",
              "      <th>min</th>\n",
              "      <td>1.000000</td>\n",
              "      <td>0.000000</td>\n",
              "      <td>1.000000</td>\n",
              "      <td>0.420000</td>\n",
              "      <td>0.000000</td>\n",
              "      <td>0.000000</td>\n",
              "      <td>0.000000</td>\n",
              "    </tr>\n",
              "    <tr>\n",
              "      <th>25%</th>\n",
              "      <td>223.500000</td>\n",
              "      <td>0.000000</td>\n",
              "      <td>2.000000</td>\n",
              "      <td>20.125000</td>\n",
              "      <td>0.000000</td>\n",
              "      <td>0.000000</td>\n",
              "      <td>7.910400</td>\n",
              "    </tr>\n",
              "    <tr>\n",
              "      <th>50%</th>\n",
              "      <td>446.000000</td>\n",
              "      <td>0.000000</td>\n",
              "      <td>3.000000</td>\n",
              "      <td>28.000000</td>\n",
              "      <td>0.000000</td>\n",
              "      <td>0.000000</td>\n",
              "      <td>14.454200</td>\n",
              "    </tr>\n",
              "    <tr>\n",
              "      <th>75%</th>\n",
              "      <td>668.500000</td>\n",
              "      <td>1.000000</td>\n",
              "      <td>3.000000</td>\n",
              "      <td>38.000000</td>\n",
              "      <td>1.000000</td>\n",
              "      <td>0.000000</td>\n",
              "      <td>31.000000</td>\n",
              "    </tr>\n",
              "    <tr>\n",
              "      <th>max</th>\n",
              "      <td>891.000000</td>\n",
              "      <td>1.000000</td>\n",
              "      <td>3.000000</td>\n",
              "      <td>80.000000</td>\n",
              "      <td>8.000000</td>\n",
              "      <td>6.000000</td>\n",
              "      <td>512.329200</td>\n",
              "    </tr>\n",
              "  </tbody>\n",
              "</table>\n",
              "</div>"
            ],
            "text/plain": [
              "       PassengerId    Survived      Pclass  ...       SibSp       Parch        Fare\n",
              "count   891.000000  891.000000  891.000000  ...  891.000000  891.000000  891.000000\n",
              "mean    446.000000    0.383838    2.308642  ...    0.523008    0.381594   32.204208\n",
              "std     257.353842    0.486592    0.836071  ...    1.102743    0.806057   49.693429\n",
              "min       1.000000    0.000000    1.000000  ...    0.000000    0.000000    0.000000\n",
              "25%     223.500000    0.000000    2.000000  ...    0.000000    0.000000    7.910400\n",
              "50%     446.000000    0.000000    3.000000  ...    0.000000    0.000000   14.454200\n",
              "75%     668.500000    1.000000    3.000000  ...    1.000000    0.000000   31.000000\n",
              "max     891.000000    1.000000    3.000000  ...    8.000000    6.000000  512.329200\n",
              "\n",
              "[8 rows x 7 columns]"
            ]
          },
          "metadata": {},
          "execution_count": 787
        }
      ]
    },
    {
      "cell_type": "markdown",
      "metadata": {
        "id": "JdFDL2-VMnGz"
      },
      "source": [
        "`.describe()` method gives mean, min, max, median, Q1 and Q3."
      ]
    },
    {
      "cell_type": "code",
      "metadata": {
        "colab": {
          "base_uri": "https://localhost:8080/"
        },
        "id": "uP4tZpA1NNWA",
        "outputId": "fad947e1-8bcf-445e-f919-70fa6977f24d"
      },
      "source": [
        "df.isnull().sum()"
      ],
      "execution_count": 788,
      "outputs": [
        {
          "output_type": "execute_result",
          "data": {
            "text/plain": [
              "PassengerId      0\n",
              "Survived         0\n",
              "Pclass           0\n",
              "Name             0\n",
              "Sex              0\n",
              "Age            177\n",
              "SibSp            0\n",
              "Parch            0\n",
              "Ticket           0\n",
              "Fare             0\n",
              "Cabin          687\n",
              "Embarked         2\n",
              "dtype: int64"
            ]
          },
          "metadata": {},
          "execution_count": 788
        }
      ]
    },
    {
      "cell_type": "markdown",
      "metadata": {
        "id": "bIPBbgkyMtS2"
      },
      "source": [
        "From above, it is known that the features `Age`, `Cabin` and `Embarked` have null values. These null values are to be filled."
      ]
    },
    {
      "cell_type": "markdown",
      "metadata": {
        "id": "7T69NgLiO2p8"
      },
      "source": [
        "# Data Visualization"
      ]
    },
    {
      "cell_type": "markdown",
      "metadata": {
        "id": "IoEe7t-KNBA1"
      },
      "source": [
        "> Data visualization is the act of taking information (data) and placing it into a visual context , such as a map or graph. Data visualizations make big and small data easier for the human brain to understand, and visualization also makes it easier to detect patterns, trends, and outliers in groups of data."
      ]
    },
    {
      "cell_type": "markdown",
      "metadata": {
        "id": "lZlOmZsvNEo9"
      },
      "source": [
        "#####**Pie chart with Survived and Death Passengers :**"
      ]
    },
    {
      "cell_type": "code",
      "metadata": {
        "colab": {
          "base_uri": "https://localhost:8080/",
          "height": 567
        },
        "id": "nUWIm3mEWy57",
        "outputId": "2f1e9685-0f26-4d48-b8c9-7b90bb110ea8"
      },
      "source": [
        "survived_sum=df['Survived'].sum()\n",
        "dead_sum=df['Survived'].value_counts().sum()-survived_sum\n",
        "lab=['Survived','Dead']\n",
        "data=[survived_sum,dead_sum]\n",
        "plt.figure(figsize=(8,8))\n",
        "plt.pie(data,labels=lab,autopct='%1.1f%%')"
      ],
      "execution_count": 789,
      "outputs": [
        {
          "output_type": "execute_result",
          "data": {
            "text/plain": [
              "([<matplotlib.patches.Wedge at 0x7fb0881bc190>,\n",
              "  <matplotlib.patches.Wedge at 0x7fb0881bc990>],\n",
              " [Text(0.39257483889210154, 1.0275626481479563, 'Survived'),\n",
              "  Text(-0.3925747426847421, -1.0275626849034607, 'Dead')],\n",
              " [Text(0.21413173030478264, 0.5604887171716125, '38.4%'),\n",
              "  Text(-0.2141316778280411, -0.5604887372200694, '61.6%')])"
            ]
          },
          "metadata": {},
          "execution_count": 789
        },
        {
          "output_type": "display_data",
          "data": {
            "image/png": "[encoded data removed]",
            "text/plain": [
              "<Figure size 576x576 with 1 Axes>"
            ]
          },
          "metadata": {}
        }
      ]
    },
    {
      "cell_type": "markdown",
      "metadata": {
        "id": "p3npU8V9NWXV"
      },
      "source": [
        "The above Pie chart shows that 38.4% of Passengers have survived the mishap."
      ]
    },
    {
      "cell_type": "code",
      "metadata": {
        "id": "_A4gmmscNUTm",
        "colab": {
          "base_uri": "https://localhost:8080/",
          "height": 400
        },
        "outputId": "7de6dca2-7a9b-4a79-ce82-01f2522f1b16"
      },
      "source": [
        "sns.catplot(x=\"Sex\", hue=\"Survived\", kind=\"count\", data=df)"
      ],
      "execution_count": 790,
      "outputs": [
        {
          "output_type": "execute_result",
          "data": {
            "text/plain": [
              "<seaborn.axisgrid.FacetGrid at 0x7fb08820aa50>"
            ]
          },
          "metadata": {},
          "execution_count": 790
        },
        {
          "output_type": "display_data",
          "data": {
            "image/png": "[encoded data removed]",
            "text/plain": [
              "<Figure size 411.875x360 with 1 Axes>"
            ]
          },
          "metadata": {
            "needs_background": "light"
          }
        }
      ]
    },
    {
      "cell_type": "markdown",
      "metadata": {
        "id": "U4U7XuzrOEjs"
      },
      "source": [
        "From the above result, it is found that Male are largely not survived compared to Female passengers. The death count of Females are far less than Males."
      ]
    },
    {
      "cell_type": "code",
      "metadata": {
        "colab": {
          "base_uri": "https://localhost:8080/",
          "height": 296
        },
        "id": "XapEOQnwQQTZ",
        "outputId": "42c6bbac-f7d0-4b1b-ee99-d6a109fa0d50"
      },
      "source": [
        "sns.countplot(x=\"Pclass\", hue=\"Sex\", data=df, palette='rainbow')"
      ],
      "execution_count": 791,
      "outputs": [
        {
          "output_type": "execute_result",
          "data": {
            "text/plain": [
              "<matplotlib.axes._subplots.AxesSubplot at 0x7fb0881a95d0>"
            ]
          },
          "metadata": {},
          "execution_count": 791
        },
        {
          "output_type": "display_data",
          "data": {
            "image/png": "[encoded data removed]",
            "text/plain": [
              "<Figure size 432x288 with 1 Axes>"
            ]
          },
          "metadata": {
            "needs_background": "light"
          }
        }
      ]
    },
    {
      "cell_type": "markdown",
      "metadata": {
        "id": "xaY2UMhyOoFu"
      },
      "source": [
        "3rd class is mostly occupied by Males whereas Female passengers are distributed almost equally among three classes.\n"
      ]
    },
    {
      "cell_type": "code",
      "metadata": {
        "colab": {
          "base_uri": "https://localhost:8080/",
          "height": 296
        },
        "id": "jw7yfFGrnjJN",
        "outputId": "a474d498-b3a9-4520-de01-45628a98c155"
      },
      "source": [
        "sns.countplot(x='Survived',hue='Pclass',data=df,palette='rainbow')"
      ],
      "execution_count": 792,
      "outputs": [
        {
          "output_type": "execute_result",
          "data": {
            "text/plain": [
              "<matplotlib.axes._subplots.AxesSubplot at 0x7fb088e7fa10>"
            ]
          },
          "metadata": {},
          "execution_count": 792
        },
        {
          "output_type": "display_data",
          "data": {
            "image/png": "[encoded data removed]",
            "text/plain": [
              "<Figure size 432x288 with 1 Axes>"
            ]
          },
          "metadata": {
            "needs_background": "light"
          }
        }
      ]
    },
    {
      "cell_type": "markdown",
      "metadata": {
        "id": "1rJH9KiWnmbe"
      },
      "source": [
        "The above plot shows that the survival rate of 3rd class is far less while it is more for 1st class."
      ]
    },
    {
      "cell_type": "code",
      "metadata": {
        "colab": {
          "base_uri": "https://localhost:8080/",
          "height": 400
        },
        "id": "RByz_Wm8pQH0",
        "outputId": "ece411c8-b31c-46ee-f74b-27fa0683c72d"
      },
      "source": [
        "sns.catplot(x='Sex', y='Age', hue='Pclass', kind='box', data=df)"
      ],
      "execution_count": 793,
      "outputs": [
        {
          "output_type": "execute_result",
          "data": {
            "text/plain": [
              "<seaborn.axisgrid.FacetGrid at 0x7fb0880fb8d0>"
            ]
          },
          "metadata": {},
          "execution_count": 793
        },
        {
          "output_type": "display_data",
          "data": {
            "image/png": "[encoded data removed]",
            "text/plain": [
              "<Figure size 402.375x360 with 1 Axes>"
            ]
          },
          "metadata": {
            "needs_background": "light"
          }
        }
      ]
    },
    {
      "cell_type": "markdown",
      "metadata": {
        "id": "CHik8O2Np85h"
      },
      "source": [
        "From the above plot, we infer that most of the older people were traveling in first class. It may be because they were rich. The youngsters who are aged between 25 and 35 were mostly traveling in second and third classes."
      ]
    },
    {
      "cell_type": "code",
      "metadata": {
        "colab": {
          "base_uri": "https://localhost:8080/",
          "height": 459
        },
        "id": "LfWf1OPwRszC",
        "outputId": "b7544e22-3525-4ea4-93fa-34f084ddcbbb"
      },
      "source": [
        "plt.figure(figsize=(7,7))\n",
        "sns.violinplot(y='Age', x='Pclass', hue='Survived', data=df, split=1)"
      ],
      "execution_count": 794,
      "outputs": [
        {
          "output_type": "execute_result",
          "data": {
            "text/plain": [
              "<matplotlib.axes._subplots.AxesSubplot at 0x7fb087f83150>"
            ]
          },
          "metadata": {},
          "execution_count": 794
        },
        {
          "output_type": "display_data",
          "data": {
            "image/png": "[encoded data removed]",
            "text/plain": [
              "<Figure size 504x504 with 1 Axes>"
            ]
          },
          "metadata": {
            "needs_background": "light"
          }
        }
      ]
    },
    {
      "cell_type": "markdown",
      "metadata": {
        "id": "-bCVsE5bRLMP"
      },
      "source": [
        "The above Violin plot shows that Age plays a major role in Survival of the person. Passengers of first class are of in more number who survived. The age group 20-40 shows more number of survival."
      ]
    },
    {
      "cell_type": "code",
      "metadata": {
        "colab": {
          "base_uri": "https://localhost:8080/",
          "height": 383
        },
        "id": "T53sNUMDSII7",
        "outputId": "933fd6ca-e3a4-4b8b-a291-50124322a78f"
      },
      "source": [
        "sns.factorplot('Pclass', 'Survived', hue='Sex', data=df)\n",
        "plt.show()"
      ],
      "execution_count": 795,
      "outputs": [
        {
          "output_type": "display_data",
          "data": {
            "image/png": "[encoded data removed]",
            "text/plain": [
              "<Figure size 430.5x360 with 1 Axes>"
            ]
          },
          "metadata": {
            "needs_background": "light"
          }
        }
      ]
    },
    {
      "cell_type": "markdown",
      "metadata": {
        "id": "i8xd50jiR6E6"
      },
      "source": [
        "From the above plot, The survival rate of males is reduced with the decrease in class whereas female passengers of 1st class has more survival rate"
      ]
    },
    {
      "cell_type": "code",
      "metadata": {
        "colab": {
          "base_uri": "https://localhost:8080/",
          "height": 400
        },
        "id": "Q5H_8BK3VSkt",
        "outputId": "7558412f-b5fc-44d2-ff7c-3e9be1ac24c7"
      },
      "source": [
        "sns.catplot(x='Sex', y='Fare', data=df, kind='boxen')"
      ],
      "execution_count": 796,
      "outputs": [
        {
          "output_type": "execute_result",
          "data": {
            "text/plain": [
              "<seaborn.axisgrid.FacetGrid at 0x7fb087ec3c90>"
            ]
          },
          "metadata": {},
          "execution_count": 796
        },
        {
          "output_type": "display_data",
          "data": {
            "image/png": "[encoded data removed]",
            "text/plain": [
              "<Figure size 360x360 with 1 Axes>"
            ]
          },
          "metadata": {
            "needs_background": "light"
          }
        }
      ]
    },
    {
      "cell_type": "markdown",
      "metadata": {
        "id": "0Vlo-lNYqUfy"
      },
      "source": [
        "The above box plot indicates that the fare of `female` passengers is greater higher than `male` passengers."
      ]
    },
    {
      "cell_type": "markdown",
      "metadata": {
        "id": "hcXRwX6HUI2i"
      },
      "source": [
        "Hence from the above,\n",
        "* `Age` plays key role in determination of survival hence it's null values have to be filled.\n",
        "* Female passengers have more chances of survival than Males.\n",
        "* Passengers of Class 1 have more chance of survival.\n",
        "* The features `Name`, `PassengerId`, `Ticket` can be dropped as they won't contibute towards prediction of survival."
      ]
    },
    {
      "cell_type": "markdown",
      "metadata": {
        "id": "q5wwdNPAryzT"
      },
      "source": [
        "# Data Cleaning"
      ]
    },
    {
      "cell_type": "code",
      "metadata": {
        "id": "siJlX7xQ1Nbn",
        "colab": {
          "base_uri": "https://localhost:8080/"
        },
        "outputId": "47334fc0-6cdc-457d-83e7-0c9ff98c7f71"
      },
      "source": [
        "df.columns.values"
      ],
      "execution_count": 797,
      "outputs": [
        {
          "output_type": "execute_result",
          "data": {
            "text/plain": [
              "array(['PassengerId', 'Survived', 'Pclass', 'Name', 'Sex', 'Age', 'SibSp',\n",
              "       'Parch', 'Ticket', 'Fare', 'Cabin', 'Embarked'], dtype=object)"
            ]
          },
          "metadata": {},
          "execution_count": 797
        }
      ]
    },
    {
      "cell_type": "code",
      "metadata": {
        "colab": {
          "base_uri": "https://localhost:8080/"
        },
        "id": "SPUIpCw26aLS",
        "outputId": "63825b26-d561-4658-fdbf-05a3b0993d44"
      },
      "source": [
        "miss_val=df.isnull().sum()\n",
        "print(miss_val[miss_val>0])"
      ],
      "execution_count": 798,
      "outputs": [
        {
          "output_type": "stream",
          "name": "stdout",
          "text": [
            "Age         177\n",
            "Cabin       687\n",
            "Embarked      2\n",
            "dtype: int64\n"
          ]
        }
      ]
    },
    {
      "cell_type": "code",
      "metadata": {
        "colab": {
          "base_uri": "https://localhost:8080/",
          "height": 333
        },
        "id": "-ugqnO9u6lz9",
        "outputId": "2c418e54-44f7-4b91-aafe-abe584eb6b11"
      },
      "source": [
        "sns.heatmap(df.isnull(),yticklabels=False,cbar=False,cmap='viridis')"
      ],
      "execution_count": 799,
      "outputs": [
        {
          "output_type": "execute_result",
          "data": {
            "text/plain": [
              "<matplotlib.axes._subplots.AxesSubplot at 0x7fb087da5c10>"
            ]
          },
          "metadata": {},
          "execution_count": 799
        },
        {
          "output_type": "display_data",
          "data": {
            "image/png": "[encoded data removed]",
            "text/plain": [
              "<Figure size 432x288 with 1 Axes>"
            ]
          },
          "metadata": {
            "needs_background": "light"
          }
        }
      ]
    },
    {
      "cell_type": "markdown",
      "metadata": {
        "id": "1eKNkhQM_pnd"
      },
      "source": [
        "Roughly 20 percent of the Age data is missing. The proportion of Age missing is likely small enough for reasonable replacement with some form of imputation."
      ]
    },
    {
      "cell_type": "markdown",
      "metadata": {
        "id": "ddaNa41RACGN"
      },
      "source": [
        "We want to fill in missing age data instead of just dropping the missing age data rows. One way to do this is by filling in the mean age of all the passengers (imputation). However we can be smarter about this and check the average age by passenger class. For example:\n",
        "\n"
      ]
    },
    {
      "cell_type": "code",
      "metadata": {
        "colab": {
          "base_uri": "https://localhost:8080/",
          "height": 459
        },
        "id": "XRLuJ11d7HKJ",
        "outputId": "a92e8ba0-69e4-45da-d4e3-d142ccd60541"
      },
      "source": [
        "plt.figure(figsize=(12, 7))\n",
        "sns.boxplot(x='Pclass',y='Age',data=df,palette='winter')"
      ],
      "execution_count": 800,
      "outputs": [
        {
          "output_type": "execute_result",
          "data": {
            "text/plain": [
              "<matplotlib.axes._subplots.AxesSubplot at 0x7fb087e7f8d0>"
            ]
          },
          "metadata": {},
          "execution_count": 800
        },
        {
          "output_type": "display_data",
          "data": {
            "image/png": "[encoded data removed]",
            "text/plain": [
              "<Figure size 864x504 with 1 Axes>"
            ]
          },
          "metadata": {
            "needs_background": "light"
          }
        }
      ]
    },
    {
      "cell_type": "markdown",
      "metadata": {
        "id": "mrvmvn97oOxb"
      },
      "source": [
        "The above box plot relieves that the Age depends on the Class. Hence the null values containing in the column of Age are filled with the mean age of the respective Class."
      ]
    },
    {
      "cell_type": "code",
      "metadata": {
        "id": "j4Qb_vRw7Zdj"
      },
      "source": [
        "def impute_age(cols):\n",
        "    Age = cols[0]\n",
        "    Pclass = cols[1]\n",
        "    \n",
        "    if pd.isnull(Age):\n",
        "        if Pclass == 1:\n",
        "            return 37\n",
        "        elif Pclass == 2:\n",
        "            return 29\n",
        "        else:\n",
        "            return 24\n",
        "    else:\n",
        "        return Age\n",
        "\n",
        "df['Age']=df[['Age','Pclass']].apply(impute_age,axis=1)"
      ],
      "execution_count": 801,
      "outputs": []
    },
    {
      "cell_type": "code",
      "metadata": {
        "colab": {
          "base_uri": "https://localhost:8080/",
          "height": 333
        },
        "id": "ac1K3fir7sGF",
        "outputId": "a29f3adf-a640-4bbc-d6a4-2d053daf0556"
      },
      "source": [
        "sns.heatmap(df.isnull(),yticklabels=False,cbar=False,cmap='viridis')"
      ],
      "execution_count": 802,
      "outputs": [
        {
          "output_type": "execute_result",
          "data": {
            "text/plain": [
              "<matplotlib.axes._subplots.AxesSubplot at 0x7fb087da5f50>"
            ]
          },
          "metadata": {},
          "execution_count": 802
        },
        {
          "output_type": "display_data",
          "data": {
            "image/png": "[encoded data removed]",
            "text/plain": [
              "<Figure size 432x288 with 1 Axes>"
            ]
          },
          "metadata": {
            "needs_background": "light"
          }
        }
      ]
    },
    {
      "cell_type": "code",
      "metadata": {
        "id": "eWPBYbNH7wUQ"
      },
      "source": [
        "df.drop('Cabin',axis=1,inplace=True)"
      ],
      "execution_count": 803,
      "outputs": []
    },
    {
      "cell_type": "code",
      "metadata": {
        "id": "s-ypeZH_z7Yy"
      },
      "source": [
        "def impute_embarked(cols):\n",
        "    Embarked = cols[0]\n",
        "    \n",
        "    if pd.isnull(Embarked):\n",
        "        return 'S'\n",
        "    else:\n",
        "        return Embarked\n",
        "\n",
        "df['Embarked']=df[['Embarked']].apply(impute_embarked,axis=1)"
      ],
      "execution_count": 804,
      "outputs": []
    },
    {
      "cell_type": "code",
      "metadata": {
        "colab": {
          "base_uri": "https://localhost:8080/"
        },
        "id": "f2TLK9Bf2-DZ",
        "outputId": "3027fca1-9a33-4174-d9b4-d06ab5c2a7d2"
      },
      "source": [
        "df['Embarked'].isnull().sum()"
      ],
      "execution_count": 805,
      "outputs": [
        {
          "output_type": "execute_result",
          "data": {
            "text/plain": [
              "0"
            ]
          },
          "metadata": {},
          "execution_count": 805
        }
      ]
    },
    {
      "cell_type": "code",
      "metadata": {
        "colab": {
          "base_uri": "https://localhost:8080/",
          "height": 333
        },
        "id": "qPWgv39p3Prb",
        "outputId": "1d358502-df4a-4423-b7fd-f63ea54d9ecf"
      },
      "source": [
        "sns.heatmap(df.isnull(),yticklabels=False,cbar=False,cmap='viridis')"
      ],
      "execution_count": 806,
      "outputs": [
        {
          "output_type": "execute_result",
          "data": {
            "text/plain": [
              "<matplotlib.axes._subplots.AxesSubplot at 0x7fb087da7e50>"
            ]
          },
          "metadata": {},
          "execution_count": 806
        },
        {
          "output_type": "display_data",
          "data": {
            "image/png": "[encoded data removed]",
            "text/plain": [
              "<Figure size 432x288 with 1 Axes>"
            ]
          },
          "metadata": {
            "needs_background": "light"
          }
        }
      ]
    },
    {
      "cell_type": "markdown",
      "metadata": {
        "id": "w6Itke3zrl7D"
      },
      "source": [
        "The above heat map shows that there are no null values."
      ]
    },
    {
      "cell_type": "code",
      "metadata": {
        "id": "VXRvXiRo75EF"
      },
      "source": [
        "df.dropna(inplace=True)"
      ],
      "execution_count": 807,
      "outputs": []
    },
    {
      "cell_type": "code",
      "metadata": {
        "colab": {
          "base_uri": "https://localhost:8080/"
        },
        "id": "NGsoxq778DVL",
        "outputId": "05eb8353-6f07-4288-ae20-c16341b99041"
      },
      "source": [
        "df.info()"
      ],
      "execution_count": 808,
      "outputs": [
        {
          "output_type": "stream",
          "name": "stdout",
          "text": [
            "<class 'pandas.core.frame.DataFrame'>\n",
            "Int64Index: 891 entries, 0 to 890\n",
            "Data columns (total 11 columns):\n",
            " #   Column       Non-Null Count  Dtype  \n",
            "---  ------       --------------  -----  \n",
            " 0   PassengerId  891 non-null    int64  \n",
            " 1   Survived     891 non-null    int64  \n",
            " 2   Pclass       891 non-null    int64  \n",
            " 3   Name         891 non-null    object \n",
            " 4   Sex          891 non-null    object \n",
            " 5   Age          891 non-null    float64\n",
            " 6   SibSp        891 non-null    int64  \n",
            " 7   Parch        891 non-null    int64  \n",
            " 8   Ticket       891 non-null    object \n",
            " 9   Fare         891 non-null    float64\n",
            " 10  Embarked     891 non-null    object \n",
            "dtypes: float64(2), int64(5), object(4)\n",
            "memory usage: 83.5+ KB\n"
          ]
        }
      ]
    },
    {
      "cell_type": "code",
      "metadata": {
        "colab": {
          "base_uri": "https://localhost:8080/",
          "height": 203
        },
        "id": "tR87Vugv8HkN",
        "outputId": "b5e7fffd-82c5-4303-e62e-4af12b4084d6"
      },
      "source": [
        "pd.get_dummies(df['Embarked'],drop_first=True).head()"
      ],
      "execution_count": 809,
      "outputs": [
        {
          "output_type": "execute_result",
          "data": {
            "text/html": [
              "<div>\n",
              "<style scoped>\n",
              "    .dataframe tbody tr th:only-of-type {\n",
              "        vertical-align: middle;\n",
              "    }\n",
              "\n",
              "    .dataframe tbody tr th {\n",
              "        vertical-align: top;\n",
              "    }\n",
              "\n",
              "    .dataframe thead th {\n",
              "        text-align: right;\n",
              "    }\n",
              "</style>\n",
              "<table border=\"1\" class=\"dataframe\">\n",
              "  <thead>\n",
              "    <tr style=\"text-align: right;\">\n",
              "      <th></th>\n",
              "      <th>Q</th>\n",
              "      <th>S</th>\n",
              "    </tr>\n",
              "  </thead>\n",
              "  <tbody>\n",
              "    <tr>\n",
              "      <th>0</th>\n",
              "      <td>0</td>\n",
              "      <td>1</td>\n",
              "    </tr>\n",
              "    <tr>\n",
              "      <th>1</th>\n",
              "      <td>0</td>\n",
              "      <td>0</td>\n",
              "    </tr>\n",
              "    <tr>\n",
              "      <th>2</th>\n",
              "      <td>0</td>\n",
              "      <td>1</td>\n",
              "    </tr>\n",
              "    <tr>\n",
              "      <th>3</th>\n",
              "      <td>0</td>\n",
              "      <td>1</td>\n",
              "    </tr>\n",
              "    <tr>\n",
              "      <th>4</th>\n",
              "      <td>0</td>\n",
              "      <td>1</td>\n",
              "    </tr>\n",
              "  </tbody>\n",
              "</table>\n",
              "</div>"
            ],
            "text/plain": [
              "   Q  S\n",
              "0  0  1\n",
              "1  0  0\n",
              "2  0  1\n",
              "3  0  1\n",
              "4  0  1"
            ]
          },
          "metadata": {},
          "execution_count": 809
        }
      ]
    },
    {
      "cell_type": "code",
      "metadata": {
        "id": "L6XTbJ1A8PFc"
      },
      "source": [
        "sex = pd.get_dummies(df['Sex'],drop_first=True)\n",
        "embark = pd.get_dummies(df['Embarked'],drop_first=True)\n",
        "pclass = pd.get_dummies(df['Pclass'],drop_first=True)"
      ],
      "execution_count": 810,
      "outputs": []
    },
    {
      "cell_type": "markdown",
      "metadata": {
        "id": "ztGAsnJYrwGo"
      },
      "source": [
        "The string data is converted into binary // the dummy values (categorical values) in a column are replaced by binary digits using the method `.get_dummies` and the first columns are dropped."
      ]
    },
    {
      "cell_type": "code",
      "metadata": {
        "id": "e09-eJvC8UKN"
      },
      "source": [
        "df.drop(['Sex','Embarked','Pclass','Name','Ticket'],axis=1,inplace=True)"
      ],
      "execution_count": 811,
      "outputs": []
    },
    {
      "cell_type": "code",
      "metadata": {
        "colab": {
          "base_uri": "https://localhost:8080/",
          "height": 203
        },
        "id": "bzh329ya8aOt",
        "outputId": "8c42433e-7600-4a13-eb5a-51e99d757879"
      },
      "source": [
        "df.head()"
      ],
      "execution_count": 812,
      "outputs": [
        {
          "output_type": "execute_result",
          "data": {
            "text/html": [
              "<div>\n",
              "<style scoped>\n",
              "    .dataframe tbody tr th:only-of-type {\n",
              "        vertical-align: middle;\n",
              "    }\n",
              "\n",
              "    .dataframe tbody tr th {\n",
              "        vertical-align: top;\n",
              "    }\n",
              "\n",
              "    .dataframe thead th {\n",
              "        text-align: right;\n",
              "    }\n",
              "</style>\n",
              "<table border=\"1\" class=\"dataframe\">\n",
              "  <thead>\n",
              "    <tr style=\"text-align: right;\">\n",
              "      <th></th>\n",
              "      <th>PassengerId</th>\n",
              "      <th>Survived</th>\n",
              "      <th>Age</th>\n",
              "      <th>SibSp</th>\n",
              "      <th>Parch</th>\n",
              "      <th>Fare</th>\n",
              "    </tr>\n",
              "  </thead>\n",
              "  <tbody>\n",
              "    <tr>\n",
              "      <th>0</th>\n",
              "      <td>1</td>\n",
              "      <td>0</td>\n",
              "      <td>22.0</td>\n",
              "      <td>1</td>\n",
              "      <td>0</td>\n",
              "      <td>7.2500</td>\n",
              "    </tr>\n",
              "    <tr>\n",
              "      <th>1</th>\n",
              "      <td>2</td>\n",
              "      <td>1</td>\n",
              "      <td>38.0</td>\n",
              "      <td>1</td>\n",
              "      <td>0</td>\n",
              "      <td>71.2833</td>\n",
              "    </tr>\n",
              "    <tr>\n",
              "      <th>2</th>\n",
              "      <td>3</td>\n",
              "      <td>1</td>\n",
              "      <td>26.0</td>\n",
              "      <td>0</td>\n",
              "      <td>0</td>\n",
              "      <td>7.9250</td>\n",
              "    </tr>\n",
              "    <tr>\n",
              "      <th>3</th>\n",
              "      <td>4</td>\n",
              "      <td>1</td>\n",
              "      <td>35.0</td>\n",
              "      <td>1</td>\n",
              "      <td>0</td>\n",
              "      <td>53.1000</td>\n",
              "    </tr>\n",
              "    <tr>\n",
              "      <th>4</th>\n",
              "      <td>5</td>\n",
              "      <td>0</td>\n",
              "      <td>35.0</td>\n",
              "      <td>0</td>\n",
              "      <td>0</td>\n",
              "      <td>8.0500</td>\n",
              "    </tr>\n",
              "  </tbody>\n",
              "</table>\n",
              "</div>"
            ],
            "text/plain": [
              "   PassengerId  Survived   Age  SibSp  Parch     Fare\n",
              "0            1         0  22.0      1      0   7.2500\n",
              "1            2         1  38.0      1      0  71.2833\n",
              "2            3         1  26.0      0      0   7.9250\n",
              "3            4         1  35.0      1      0  53.1000\n",
              "4            5         0  35.0      0      0   8.0500"
            ]
          },
          "metadata": {},
          "execution_count": 812
        }
      ]
    },
    {
      "cell_type": "code",
      "metadata": {
        "id": "6mnEygBL8d85"
      },
      "source": [
        "df = pd.concat([df,sex,embark,pclass],axis=1)"
      ],
      "execution_count": 813,
      "outputs": []
    },
    {
      "cell_type": "markdown",
      "metadata": {
        "id": "m1B8R8gMstTN"
      },
      "source": [
        "The numerical columns build after using the method `.get_dummies()` are concatinated to the DataFrame `df` using the method `.concat()`"
      ]
    },
    {
      "cell_type": "code",
      "metadata": {
        "colab": {
          "base_uri": "https://localhost:8080/",
          "height": 203
        },
        "id": "qVNO7_WG8lTs",
        "outputId": "6ea8496a-37ba-43af-cb27-377b54efda0d"
      },
      "source": [
        "df.head()"
      ],
      "execution_count": 814,
      "outputs": [
        {
          "output_type": "execute_result",
          "data": {
            "text/html": [
              "<div>\n",
              "<style scoped>\n",
              "    .dataframe tbody tr th:only-of-type {\n",
              "        vertical-align: middle;\n",
              "    }\n",
              "\n",
              "    .dataframe tbody tr th {\n",
              "        vertical-align: top;\n",
              "    }\n",
              "\n",
              "    .dataframe thead th {\n",
              "        text-align: right;\n",
              "    }\n",
              "</style>\n",
              "<table border=\"1\" class=\"dataframe\">\n",
              "  <thead>\n",
              "    <tr style=\"text-align: right;\">\n",
              "      <th></th>\n",
              "      <th>PassengerId</th>\n",
              "      <th>Survived</th>\n",
              "      <th>Age</th>\n",
              "      <th>SibSp</th>\n",
              "      <th>Parch</th>\n",
              "      <th>Fare</th>\n",
              "      <th>male</th>\n",
              "      <th>Q</th>\n",
              "      <th>S</th>\n",
              "      <th>2</th>\n",
              "      <th>3</th>\n",
              "    </tr>\n",
              "  </thead>\n",
              "  <tbody>\n",
              "    <tr>\n",
              "      <th>0</th>\n",
              "      <td>1</td>\n",
              "      <td>0</td>\n",
              "      <td>22.0</td>\n",
              "      <td>1</td>\n",
              "      <td>0</td>\n",
              "      <td>7.2500</td>\n",
              "      <td>1</td>\n",
              "      <td>0</td>\n",
              "      <td>1</td>\n",
              "      <td>0</td>\n",
              "      <td>1</td>\n",
              "    </tr>\n",
              "    <tr>\n",
              "      <th>1</th>\n",
              "      <td>2</td>\n",
              "      <td>1</td>\n",
              "      <td>38.0</td>\n",
              "      <td>1</td>\n",
              "      <td>0</td>\n",
              "      <td>71.2833</td>\n",
              "      <td>0</td>\n",
              "      <td>0</td>\n",
              "      <td>0</td>\n",
              "      <td>0</td>\n",
              "      <td>0</td>\n",
              "    </tr>\n",
              "    <tr>\n",
              "      <th>2</th>\n",
              "      <td>3</td>\n",
              "      <td>1</td>\n",
              "      <td>26.0</td>\n",
              "      <td>0</td>\n",
              "      <td>0</td>\n",
              "      <td>7.9250</td>\n",
              "      <td>0</td>\n",
              "      <td>0</td>\n",
              "      <td>1</td>\n",
              "      <td>0</td>\n",
              "      <td>1</td>\n",
              "    </tr>\n",
              "    <tr>\n",
              "      <th>3</th>\n",
              "      <td>4</td>\n",
              "      <td>1</td>\n",
              "      <td>35.0</td>\n",
              "      <td>1</td>\n",
              "      <td>0</td>\n",
              "      <td>53.1000</td>\n",
              "      <td>0</td>\n",
              "      <td>0</td>\n",
              "      <td>1</td>\n",
              "      <td>0</td>\n",
              "      <td>0</td>\n",
              "    </tr>\n",
              "    <tr>\n",
              "      <th>4</th>\n",
              "      <td>5</td>\n",
              "      <td>0</td>\n",
              "      <td>35.0</td>\n",
              "      <td>0</td>\n",
              "      <td>0</td>\n",
              "      <td>8.0500</td>\n",
              "      <td>1</td>\n",
              "      <td>0</td>\n",
              "      <td>1</td>\n",
              "      <td>0</td>\n",
              "      <td>1</td>\n",
              "    </tr>\n",
              "  </tbody>\n",
              "</table>\n",
              "</div>"
            ],
            "text/plain": [
              "   PassengerId  Survived   Age  SibSp  Parch     Fare  male  Q  S  2  3\n",
              "0            1         0  22.0      1      0   7.2500     1  0  1  0  1\n",
              "1            2         1  38.0      1      0  71.2833     0  0  0  0  0\n",
              "2            3         1  26.0      0      0   7.9250     0  0  1  0  1\n",
              "3            4         1  35.0      1      0  53.1000     0  0  1  0  0\n",
              "4            5         0  35.0      0      0   8.0500     1  0  1  0  1"
            ]
          },
          "metadata": {},
          "execution_count": 814
        }
      ]
    },
    {
      "cell_type": "markdown",
      "metadata": {
        "id": "lrOXWAQYs6Ty"
      },
      "source": [
        "The above Data FRame is the final cleaned data without any null values and are not of string dtype."
      ]
    },
    {
      "cell_type": "markdown",
      "metadata": {
        "id": "9PJcu6LBa8z-"
      },
      "source": [
        "# **Splitting Data for Training and Testing**"
      ]
    },
    {
      "cell_type": "code",
      "metadata": {
        "id": "XupaseYjcKtu"
      },
      "source": [
        "y = df[\"Survived\"]\n",
        "X = df.drop(\"Survived\",axis=1)"
      ],
      "execution_count": 815,
      "outputs": []
    },
    {
      "cell_type": "markdown",
      "metadata": {
        "id": "zKjxJJAutQCq"
      },
      "source": [
        "The target column `Survived` is assigned to `y` and the remaining data frame without `Survived` column is assigned to `X`"
      ]
    },
    {
      "cell_type": "code",
      "metadata": {
        "id": "wG09yJ4EbE3d"
      },
      "source": [
        "from sklearn.model_selection import train_test_split\n",
        "train_X,test_X,train_y,test_y=train_test_split(X,y,test_size = 0.2,random_state=1)"
      ],
      "execution_count": 816,
      "outputs": []
    },
    {
      "cell_type": "markdown",
      "metadata": {
        "id": "TFJw7IFVtGMl"
      },
      "source": [
        "The available data is split into 80% for training and 20% for testing."
      ]
    },
    {
      "cell_type": "markdown",
      "metadata": {
        "id": "1Im8ZE9oAhss"
      },
      "source": [
        "# **Model Validation**"
      ]
    },
    {
      "cell_type": "code",
      "metadata": {
        "id": "BMFZXabyA76t"
      },
      "source": [
        "from sklearn.metrics import classification_report\n",
        "from sklearn.metrics import confusion_matrix\n",
        "from sklearn import metrics"
      ],
      "execution_count": 817,
      "outputs": []
    },
    {
      "cell_type": "markdown",
      "metadata": {
        "id": "Joc17Z6mtmo9"
      },
      "source": [
        "The required libraries/modules for finding the accuracy are being imported."
      ]
    },
    {
      "cell_type": "markdown",
      "metadata": {
        "id": "MpE13LL3-7ss"
      },
      "source": [
        "## Random Forest Classifier"
      ]
    },
    {
      "cell_type": "code",
      "metadata": {
        "id": "01fEZYPW_C1S"
      },
      "source": [
        "from sklearn.ensemble import RandomForestClassifier\n",
        "random_model = RandomForestClassifier(random_state=101)"
      ],
      "execution_count": 818,
      "outputs": []
    },
    {
      "cell_type": "markdown",
      "metadata": {
        "id": "phCeDjYN_33m"
      },
      "source": [
        "> Fitting"
      ]
    },
    {
      "cell_type": "code",
      "metadata": {
        "colab": {
          "base_uri": "https://localhost:8080/"
        },
        "id": "kZg1SyOn_6Ju",
        "outputId": "0d071c9a-d8f7-4b2e-c91d-e85288fe1362"
      },
      "source": [
        "random_model.fit(train_X,train_y)"
      ],
      "execution_count": 819,
      "outputs": [
        {
          "output_type": "execute_result",
          "data": {
            "text/plain": [
              "RandomForestClassifier(bootstrap=True, ccp_alpha=0.0, class_weight=None,\n",
              "                       criterion='gini', max_depth=None, max_features='auto',\n",
              "                       max_leaf_nodes=None, max_samples=None,\n",
              "                       min_impurity_decrease=0.0, min_impurity_split=None,\n",
              "                       min_samples_leaf=1, min_samples_split=2,\n",
              "                       min_weight_fraction_leaf=0.0, n_estimators=100,\n",
              "                       n_jobs=None, oob_score=False, random_state=101,\n",
              "                       verbose=0, warm_start=False)"
            ]
          },
          "metadata": {},
          "execution_count": 819
        }
      ]
    },
    {
      "cell_type": "markdown",
      "metadata": {
        "id": "jLhc8aj_t4JZ"
      },
      "source": [
        "The model is fitted with `train_X` and `train_y` for further prediction."
      ]
    },
    {
      "cell_type": "markdown",
      "metadata": {
        "id": "F0zHn9VH_7y3"
      },
      "source": [
        "> Prediction"
      ]
    },
    {
      "cell_type": "code",
      "metadata": {
        "id": "ZLpOeJutACGI"
      },
      "source": [
        "random_preds = random_model.predict(test_X)"
      ],
      "execution_count": 820,
      "outputs": []
    },
    {
      "cell_type": "markdown",
      "metadata": {
        "id": "FVkHv2X3uKON"
      },
      "source": [
        "The predictions are ade and are assigned to `random_preds`. Now the accuracy is to be calculated using the imported libraries/modules."
      ]
    },
    {
      "cell_type": "markdown",
      "metadata": {
        "id": "ez6LKxn5ANUK"
      },
      "source": [
        "> Score Calculation"
      ]
    },
    {
      "cell_type": "code",
      "metadata": {
        "colab": {
          "base_uri": "https://localhost:8080/"
        },
        "id": "NVP7xDVPAQZE",
        "outputId": "5253f93e-67c1-4b16-ffc7-3aac4c75fc70"
      },
      "source": [
        "print(classification_report(test_y,random_preds))\n",
        "random_acc=round(metrics.accuracy_score(test_y,random_preds)*100,0)\n",
        "print(\"Accuracy = \",random_acc)"
      ],
      "execution_count": 821,
      "outputs": [
        {
          "output_type": "stream",
          "name": "stdout",
          "text": [
            "              precision    recall  f1-score   support\n",
            "\n",
            "           0       0.78      0.92      0.84       106\n",
            "           1       0.84      0.63      0.72        73\n",
            "\n",
            "    accuracy                           0.80       179\n",
            "   macro avg       0.81      0.77      0.78       179\n",
            "weighted avg       0.80      0.80      0.79       179\n",
            "\n",
            "Accuracy =  80.0\n"
          ]
        }
      ]
    },
    {
      "cell_type": "markdown",
      "metadata": {
        "id": "dL1GyIijGBhP"
      },
      "source": [
        "## Decision Tree Classifier"
      ]
    },
    {
      "cell_type": "code",
      "metadata": {
        "id": "6NUYz3VFGAhH"
      },
      "source": [
        "from sklearn.tree import DecisionTreeClassifier\n",
        "decision_model=DecisionTreeClassifier(random_state=10)"
      ],
      "execution_count": 822,
      "outputs": []
    },
    {
      "cell_type": "markdown",
      "metadata": {
        "id": "oAS-gknBJJ52"
      },
      "source": [
        "> Fitting"
      ]
    },
    {
      "cell_type": "code",
      "metadata": {
        "colab": {
          "base_uri": "https://localhost:8080/"
        },
        "id": "DrPRiFGGJLJL",
        "outputId": "cbe4e53d-46cd-4ee0-dd3b-3399debd71db"
      },
      "source": [
        "decision_model.fit(train_X, train_y)"
      ],
      "execution_count": 823,
      "outputs": [
        {
          "output_type": "execute_result",
          "data": {
            "text/plain": [
              "DecisionTreeClassifier(ccp_alpha=0.0, class_weight=None, criterion='gini',\n",
              "                       max_depth=None, max_features=None, max_leaf_nodes=None,\n",
              "                       min_impurity_decrease=0.0, min_impurity_split=None,\n",
              "                       min_samples_leaf=1, min_samples_split=2,\n",
              "                       min_weight_fraction_leaf=0.0, presort='deprecated',\n",
              "                       random_state=10, splitter='best')"
            ]
          },
          "metadata": {},
          "execution_count": 823
        }
      ]
    },
    {
      "cell_type": "markdown",
      "metadata": {
        "id": "-r8V7uXYueIu"
      },
      "source": [
        "The model is fitted with `train_X` and `train_y` for further prediction."
      ]
    },
    {
      "cell_type": "markdown",
      "metadata": {
        "id": "d0BtUvUnJRzs"
      },
      "source": [
        "> Prediction"
      ]
    },
    {
      "cell_type": "code",
      "metadata": {
        "id": "65kCxjJWJSrb"
      },
      "source": [
        "decision_preds =decision_model.predict(test_X)"
      ],
      "execution_count": 824,
      "outputs": []
    },
    {
      "cell_type": "markdown",
      "metadata": {
        "id": "h9o38L77uhCy"
      },
      "source": [
        "The predictions are ade and are assigned to `decision_preds`. Now the accuracy is to be calculated using the imported libraries/modules."
      ]
    },
    {
      "cell_type": "markdown",
      "metadata": {
        "id": "7MzF5g5_Jafw"
      },
      "source": [
        "> Score Calculation"
      ]
    },
    {
      "cell_type": "code",
      "metadata": {
        "colab": {
          "base_uri": "https://localhost:8080/"
        },
        "id": "8TpcCf9tJbGN",
        "outputId": "88675eb1-7a26-4467-abb8-fc915aa5fac8"
      },
      "source": [
        "print(classification_report(test_y,decision_preds))\n",
        "decision_acc=round(metrics.accuracy_score(test_y,decision_preds)*100,2)\n",
        "print(\"Accuracy = \",decision_acc)"
      ],
      "execution_count": 825,
      "outputs": [
        {
          "output_type": "stream",
          "name": "stdout",
          "text": [
            "              precision    recall  f1-score   support\n",
            "\n",
            "           0       0.77      0.81      0.79       106\n",
            "           1       0.70      0.64      0.67        73\n",
            "\n",
            "    accuracy                           0.74       179\n",
            "   macro avg       0.73      0.73      0.73       179\n",
            "weighted avg       0.74      0.74      0.74       179\n",
            "\n",
            "Accuracy =  74.3\n"
          ]
        }
      ]
    },
    {
      "cell_type": "markdown",
      "metadata": {
        "id": "ohaWqnjof4Pj"
      },
      "source": [
        "## Logistic Regresion"
      ]
    },
    {
      "cell_type": "code",
      "metadata": {
        "id": "eh4PArDJJzWJ"
      },
      "source": [
        "from sklearn.linear_model import LogisticRegression\n",
        "log_model=LogisticRegression(random_state=11)"
      ],
      "execution_count": 826,
      "outputs": []
    },
    {
      "cell_type": "markdown",
      "metadata": {
        "id": "nr4LuYKyjpKk"
      },
      "source": [
        "> Fitting"
      ]
    },
    {
      "cell_type": "code",
      "metadata": {
        "colab": {
          "base_uri": "https://localhost:8080/"
        },
        "id": "_xUcfeqFjljX",
        "outputId": "26ca8174-a16d-4e9f-c64c-46f6470d2547"
      },
      "source": [
        "log_model.fit(train_X,train_y)"
      ],
      "execution_count": 827,
      "outputs": [
        {
          "output_type": "execute_result",
          "data": {
            "text/plain": [
              "LogisticRegression(C=1.0, class_weight=None, dual=False, fit_intercept=True,\n",
              "                   intercept_scaling=1, l1_ratio=None, max_iter=100,\n",
              "                   multi_class='auto', n_jobs=None, penalty='l2',\n",
              "                   random_state=11, solver='lbfgs', tol=0.0001, verbose=0,\n",
              "                   warm_start=False)"
            ]
          },
          "metadata": {},
          "execution_count": 827
        }
      ]
    },
    {
      "cell_type": "markdown",
      "metadata": {
        "id": "4cnXJTEQuqAm"
      },
      "source": [
        "The model is fitted with `train_X` and `train_y` for further prediction."
      ]
    },
    {
      "cell_type": "markdown",
      "metadata": {
        "id": "jiJ9JQtHj7yu"
      },
      "source": [
        "> Prediction"
      ]
    },
    {
      "cell_type": "code",
      "metadata": {
        "id": "JqdY_SdBj57e"
      },
      "source": [
        "log_preds=log_model.predict(test_X)"
      ],
      "execution_count": 828,
      "outputs": []
    },
    {
      "cell_type": "markdown",
      "metadata": {
        "id": "gat7IxVKuk-8"
      },
      "source": [
        "The predictions are ade and are assigned to `log_preds`. Now the accuracy is to be calculated using the imported libraries/modules."
      ]
    },
    {
      "cell_type": "markdown",
      "metadata": {
        "id": "sdwb02LskDow"
      },
      "source": [
        "> Score Validation"
      ]
    },
    {
      "cell_type": "code",
      "metadata": {
        "colab": {
          "base_uri": "https://localhost:8080/"
        },
        "id": "wyF-9tbQkCzM",
        "outputId": "1d521cb5-63b2-493b-bf84-55e408308ec7"
      },
      "source": [
        "print(classification_report(test_y,log_preds))\n",
        "log_acc=round(metrics.accuracy_score(test_y,log_preds)*100,2)\n",
        "print(\"Accuracy = \",log_acc)"
      ],
      "execution_count": 829,
      "outputs": [
        {
          "output_type": "stream",
          "name": "stdout",
          "text": [
            "              precision    recall  f1-score   support\n",
            "\n",
            "           0       0.79      0.87      0.83       106\n",
            "           1       0.77      0.66      0.71        73\n",
            "\n",
            "    accuracy                           0.78       179\n",
            "   macro avg       0.78      0.76      0.77       179\n",
            "weighted avg       0.78      0.78      0.78       179\n",
            "\n",
            "Accuracy =  78.21\n"
          ]
        }
      ]
    },
    {
      "cell_type": "markdown",
      "metadata": {
        "id": "CBaIcFIuutrB"
      },
      "source": [
        "## *Accuracy Values*"
      ]
    },
    {
      "cell_type": "code",
      "metadata": {
        "colab": {
          "base_uri": "https://localhost:8080/",
          "height": 142
        },
        "id": "trepj2j8ka6w",
        "outputId": "60d37f6a-f116-4aca-f7a6-8e2a9d65ac86"
      },
      "source": [
        "results = pd.DataFrame({\n",
        "    'Model': ['DecisionTreeClassifier','LogisticRegression', \n",
        "              'RandomForestClassifier' \n",
        "              ],\n",
        "    'Accuracy': [decision_acc,log_acc,random_acc]})\n",
        "result_df = results.sort_values(by='Accuracy',ascending=0)\n",
        "result_df = result_df.set_index('Accuracy')\n",
        "results.head()"
      ],
      "execution_count": 830,
      "outputs": [
        {
          "output_type": "execute_result",
          "data": {
            "text/html": [
              "<div>\n",
              "<style scoped>\n",
              "    .dataframe tbody tr th:only-of-type {\n",
              "        vertical-align: middle;\n",
              "    }\n",
              "\n",
              "    .dataframe tbody tr th {\n",
              "        vertical-align: top;\n",
              "    }\n",
              "\n",
              "    .dataframe thead th {\n",
              "        text-align: right;\n",
              "    }\n",
              "</style>\n",
              "<table border=\"1\" class=\"dataframe\">\n",
              "  <thead>\n",
              "    <tr style=\"text-align: right;\">\n",
              "      <th></th>\n",
              "      <th>Model</th>\n",
              "      <th>Accuracy</th>\n",
              "    </tr>\n",
              "  </thead>\n",
              "  <tbody>\n",
              "    <tr>\n",
              "      <th>0</th>\n",
              "      <td>DecisionTreeClassifier</td>\n",
              "      <td>74.30</td>\n",
              "    </tr>\n",
              "    <tr>\n",
              "      <th>1</th>\n",
              "      <td>LogisticRegression</td>\n",
              "      <td>78.21</td>\n",
              "    </tr>\n",
              "    <tr>\n",
              "      <th>2</th>\n",
              "      <td>RandomForestClassifier</td>\n",
              "      <td>80.00</td>\n",
              "    </tr>\n",
              "  </tbody>\n",
              "</table>\n",
              "</div>"
            ],
            "text/plain": [
              "                    Model  Accuracy\n",
              "0  DecisionTreeClassifier     74.30\n",
              "1      LogisticRegression     78.21\n",
              "2  RandomForestClassifier     80.00"
            ]
          },
          "metadata": {},
          "execution_count": 830
        }
      ]
    },
    {
      "cell_type": "markdown",
      "metadata": {
        "id": "8mjoMsQbwsfE"
      },
      "source": [
        "The above DataFrame shows the accuracies obtained from the respective models. "
      ]
    }
  ]
}